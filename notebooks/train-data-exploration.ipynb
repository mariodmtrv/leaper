{
 "cells": [
  {
   "cell_type": "code",
   "execution_count": null,
   "metadata": {},
   "outputs": [],
   "source": [
    "import pandas as pd # data processing, CSV file I/O (e.g. pd.read_csv)\n",
    "import matplotlib.pyplot as plt\n",
    "import seaborn as sns\n",
    "%matplotlib inline "
   ]
  },
  {
   "cell_type": "markdown",
   "metadata": {},
   "source": [
    "<h2>Анализ на текстовия файл с данни за забележителностите</h2> "
   ]
  },
  {
   "cell_type": "code",
   "execution_count": 174,
   "metadata": {},
   "outputs": [
    {
     "data": {
      "text/html": [
       "<div>\n",
       "<style scoped>\n",
       "    .dataframe tbody tr th:only-of-type {\n",
       "        vertical-align: middle;\n",
       "    }\n",
       "\n",
       "    .dataframe tbody tr th {\n",
       "        vertical-align: top;\n",
       "    }\n",
       "\n",
       "    .dataframe thead th {\n",
       "        text-align: right;\n",
       "    }\n",
       "</style>\n",
       "<table border=\"1\" class=\"dataframe\">\n",
       "  <thead>\n",
       "    <tr style=\"text-align: right;\">\n",
       "      <th></th>\n",
       "      <th>id</th>\n",
       "      <th>url</th>\n",
       "      <th>landmark_id</th>\n",
       "    </tr>\n",
       "  </thead>\n",
       "  <tbody>\n",
       "    <tr>\n",
       "      <th>0</th>\n",
       "      <td>97c0a12e07ae8dd5</td>\n",
       "      <td>http://lh4.ggpht.com/-f8xYA5l4apw/RSziSQVaABI/...</td>\n",
       "      <td>6347</td>\n",
       "    </tr>\n",
       "    <tr>\n",
       "      <th>1</th>\n",
       "      <td>650c989dd3493748</td>\n",
       "      <td>https://lh5.googleusercontent.com/-PUnMrX7oOyA...</td>\n",
       "      <td>12519</td>\n",
       "    </tr>\n",
       "    <tr>\n",
       "      <th>2</th>\n",
       "      <td>05e63ca9b2cde1f4</td>\n",
       "      <td>http://mw2.google.com/mw-panoramio/photos/medi...</td>\n",
       "      <td>264</td>\n",
       "    </tr>\n",
       "    <tr>\n",
       "      <th>3</th>\n",
       "      <td>08672eddcb2b7c93</td>\n",
       "      <td>http://lh3.ggpht.com/-9fgSxDYwhHA/SMvGEoltKTI/...</td>\n",
       "      <td>13287</td>\n",
       "    </tr>\n",
       "    <tr>\n",
       "      <th>4</th>\n",
       "      <td>fc49cb32ef7f1e89</td>\n",
       "      <td>http://lh6.ggpht.com/-UGAXxvPbr98/S-jGZbyMIPI/...</td>\n",
       "      <td>4018</td>\n",
       "    </tr>\n",
       "  </tbody>\n",
       "</table>\n",
       "</div>"
      ],
      "text/plain": [
       "                 id                                                url  \\\n",
       "0  97c0a12e07ae8dd5  http://lh4.ggpht.com/-f8xYA5l4apw/RSziSQVaABI/...   \n",
       "1  650c989dd3493748  https://lh5.googleusercontent.com/-PUnMrX7oOyA...   \n",
       "2  05e63ca9b2cde1f4  http://mw2.google.com/mw-panoramio/photos/medi...   \n",
       "3  08672eddcb2b7c93  http://lh3.ggpht.com/-9fgSxDYwhHA/SMvGEoltKTI/...   \n",
       "4  fc49cb32ef7f1e89  http://lh6.ggpht.com/-UGAXxvPbr98/S-jGZbyMIPI/...   \n",
       "\n",
       "  landmark_id  \n",
       "0        6347  \n",
       "1       12519  \n",
       "2         264  \n",
       "3       13287  \n",
       "4        4018  "
      ]
     },
     "execution_count": 174,
     "metadata": {},
     "output_type": "execute_result"
    }
   ],
   "source": [
    "train_data = pd.read_csv(\"train.csv\")\n",
    "train_data.head()"
   ]
  },
  {
   "cell_type": "markdown",
   "metadata": {},
   "source": [
    "Общ брой снимки на забележителности в наличното множество"
   ]
  },
  {
   "cell_type": "code",
   "execution_count": 175,
   "metadata": {},
   "outputs": [
    {
     "data": {
      "text/plain": [
       "1225029"
      ]
     },
     "execution_count": 175,
     "metadata": {},
     "output_type": "execute_result"
    }
   ],
   "source": [
    "len(train_data)"
   ]
  },
  {
   "cell_type": "code",
   "execution_count": 176,
   "metadata": {},
   "outputs": [],
   "source": [
    "unique_landmark_ids = train_data.landmark_id.unique()"
   ]
  },
  {
   "cell_type": "markdown",
   "metadata": {},
   "source": [
    "Общ брой уникални забележителности сред наличните данни"
   ]
  },
  {
   "cell_type": "code",
   "execution_count": 177,
   "metadata": {},
   "outputs": [
    {
     "data": {
      "text/plain": [
       "14952"
      ]
     },
     "execution_count": 177,
     "metadata": {},
     "output_type": "execute_result"
    }
   ],
   "source": [
    "len(unique_landmark_ids)"
   ]
  },
  {
   "cell_type": "markdown",
   "metadata": {},
   "source": [
    "Проверка за липсващи данни"
   ]
  },
  {
   "cell_type": "code",
   "execution_count": 178,
   "metadata": {},
   "outputs": [
    {
     "data": {
      "text/plain": [
       "landmark_id    0\n",
       "url            0\n",
       "id             0\n",
       "dtype: int64"
      ]
     },
     "execution_count": 178,
     "metadata": {},
     "output_type": "execute_result"
    }
   ],
   "source": [
    "train_data.isnull().sum().sort_values(ascending = False)"
   ]
  },
  {
   "cell_type": "markdown",
   "metadata": {},
   "source": [
    "Привидно нямаме липсващи данни. Нека направим и проверка за реално липсващи <b>landmark_id</b>"
   ]
  },
  {
   "cell_type": "code",
   "execution_count": 179,
   "metadata": {},
   "outputs": [
    {
     "data": {
      "text/plain": [
       "12530"
      ]
     },
     "execution_count": 179,
     "metadata": {},
     "output_type": "execute_result"
    }
   ],
   "source": [
    "train_data.loc[train_data.landmark_id == 'None', 'landmark_id'].count()"
   ]
  },
  {
   "cell_type": "markdown",
   "metadata": {},
   "source": [
    "Премахваме тези невалидни записи преди да продължим работа."
   ]
  },
  {
   "cell_type": "code",
   "execution_count": 180,
   "metadata": {},
   "outputs": [],
   "source": [
    "train_data = train_data.drop(train_data[train_data.landmark_id == 'None'].index)"
   ]
  },
  {
   "cell_type": "code",
   "execution_count": 182,
   "metadata": {},
   "outputs": [
    {
     "data": {
      "text/plain": [
       "(1212499, 3)"
      ]
     },
     "execution_count": 182,
     "metadata": {},
     "output_type": "execute_result"
    }
   ],
   "source": [
    "train_data.shape"
   ]
  },
  {
   "cell_type": "code",
   "execution_count": 184,
   "metadata": {},
   "outputs": [],
   "source": [
    "train_data = train_data.head(10000)"
   ]
  },
  {
   "cell_type": "markdown",
   "metadata": {},
   "source": [
    "Визуализираме дистрибуцията на появяване на различните забележителности сред данните."
   ]
  },
  {
   "cell_type": "code",
   "execution_count": 185,
   "metadata": {},
   "outputs": [
    {
     "data": {
      "image/png": "[encoded data removed]",
      "text/plain": [
       "<Figure size 720x576 with 1 Axes>"
      ]
     },
     "metadata": {},
     "output_type": "display_data"
    }
   ],
   "source": [
    "train_data[\"landmark_id\"] = pd.to_numeric(train_data[\"landmark_id\"])\n",
    "plt.figure(figsize = (10, 8))\n",
    "plt.title('Category Distribuition')\n",
    "sns.distplot(train_data['landmark_id'])\n",
    "\n",
    "plt.show()"
   ]
  },
  {
   "cell_type": "markdown",
   "metadata": {},
   "source": [
    "Нека разгледаме за колко забележителности разполагаме с по-малко от 10 примера"
   ]
  },
  {
   "cell_type": "code",
   "execution_count": 186,
   "metadata": {},
   "outputs": [
    {
     "data": {
      "text/plain": [
       "3385"
      ]
     },
     "execution_count": 186,
     "metadata": {},
     "output_type": "execute_result"
    }
   ],
   "source": [
    "(train_data['landmark_id'].value_counts() <= 10).sum()"
   ]
  },
  {
   "cell_type": "markdown",
   "metadata": {},
   "source": [
    "Премахваме ги от данните понеже трениране на модел с толкова малко тренировъчни примери би имал лоша производителност."
   ]
  },
  {
   "cell_type": "code",
   "execution_count": 187,
   "metadata": {},
   "outputs": [],
   "source": [
    "counts = train_data.landmark_id.value_counts()\n",
    "train_data = train_data.loc[train_data.landmark_id.isin(counts[counts > 10].index), :]"
   ]
  },
  {
   "cell_type": "code",
   "execution_count": 188,
   "metadata": {},
   "outputs": [
    {
     "data": {
      "text/plain": [
       "(3291, 3)"
      ]
     },
     "execution_count": 188,
     "metadata": {},
     "output_type": "execute_result"
    }
   ],
   "source": [
    "train_data.shape"
   ]
  },
  {
   "cell_type": "markdown",
   "metadata": {},
   "source": [
    "Нека разгледаме сайтовете от които идват обработваните снимки."
   ]
  },
  {
   "cell_type": "code",
   "execution_count": 189,
   "metadata": {},
   "outputs": [],
   "source": [
    "# Extract site_names for train data\n",
    "site_list = list()\n",
    "for path in train_data['url']:\n",
    "    site_list.append((path.split('//', 1)[1]).split('/', 1)[0])\n",
    "train_data['site_name'] = site_list"
   ]
  },
  {
   "cell_type": "code",
   "execution_count": 190,
   "metadata": {},
   "outputs": [
    {
     "data": {
      "text/html": [
       "<div>\n",
       "<style scoped>\n",
       "    .dataframe tbody tr th:only-of-type {\n",
       "        vertical-align: middle;\n",
       "    }\n",
       "\n",
       "    .dataframe tbody tr th {\n",
       "        vertical-align: top;\n",
       "    }\n",
       "\n",
       "    .dataframe thead th {\n",
       "        text-align: right;\n",
       "    }\n",
       "</style>\n",
       "<table border=\"1\" class=\"dataframe\">\n",
       "  <thead>\n",
       "    <tr style=\"text-align: right;\">\n",
       "      <th></th>\n",
       "      <th>id</th>\n",
       "      <th>url</th>\n",
       "      <th>landmark_id</th>\n",
       "      <th>site_name</th>\n",
       "    </tr>\n",
       "  </thead>\n",
       "  <tbody>\n",
       "    <tr>\n",
       "      <th>5</th>\n",
       "      <td>056708de792326b9</td>\n",
       "      <td>https://lh3.googleusercontent.com/-nbz_XT1dGz4...</td>\n",
       "      <td>5046</td>\n",
       "      <td>lh3.googleusercontent.com</td>\n",
       "    </tr>\n",
       "    <tr>\n",
       "      <th>6</th>\n",
       "      <td>6ae1e206c579f649</td>\n",
       "      <td>https://lh6.googleusercontent.com/-onL5-pK9nZI...</td>\n",
       "      <td>5554</td>\n",
       "      <td>lh6.googleusercontent.com</td>\n",
       "    </tr>\n",
       "    <tr>\n",
       "      <th>7</th>\n",
       "      <td>7b1e476a7c89bb34</td>\n",
       "      <td>http://lh5.ggpht.com/-3GWjPriaA9g/Sg3e_S0qEgI/...</td>\n",
       "      <td>12220</td>\n",
       "      <td>lh5.ggpht.com</td>\n",
       "    </tr>\n",
       "    <tr>\n",
       "      <th>11</th>\n",
       "      <td>675e1bb968bc5150</td>\n",
       "      <td>http://lh3.ggpht.com/-3bysCvkJIBs/Tnf_HqJhFaI/...</td>\n",
       "      <td>5554</td>\n",
       "      <td>lh3.ggpht.com</td>\n",
       "    </tr>\n",
       "    <tr>\n",
       "      <th>12</th>\n",
       "      <td>192333daaf6119cf</td>\n",
       "      <td>https://lh5.googleusercontent.com/-eoC653AtqLs...</td>\n",
       "      <td>10045</td>\n",
       "      <td>lh5.googleusercontent.com</td>\n",
       "    </tr>\n",
       "    <tr>\n",
       "      <th>20</th>\n",
       "      <td>d84e1ac70338c92e</td>\n",
       "      <td>https://lh3.googleusercontent.com/-nGAwumqrkI0...</td>\n",
       "      <td>13526</td>\n",
       "      <td>lh3.googleusercontent.com</td>\n",
       "    </tr>\n",
       "    <tr>\n",
       "      <th>21</th>\n",
       "      <td>beee65146315cae8</td>\n",
       "      <td>http://mw2.google.com/mw-panoramio/photos/medi...</td>\n",
       "      <td>8274</td>\n",
       "      <td>mw2.google.com</td>\n",
       "    </tr>\n",
       "    <tr>\n",
       "      <th>23</th>\n",
       "      <td>e75ec07b7b4c945f</td>\n",
       "      <td>http://lh6.ggpht.com/-MbCfKSsUTLg/RjyNT-6K2OI/...</td>\n",
       "      <td>6051</td>\n",
       "      <td>lh6.ggpht.com</td>\n",
       "    </tr>\n",
       "    <tr>\n",
       "      <th>24</th>\n",
       "      <td>9f1569a7c48423d7</td>\n",
       "      <td>http://lh6.ggpht.com/-g_6dtHyMEmA/TB5_ST1SOtI/...</td>\n",
       "      <td>4644</td>\n",
       "      <td>lh6.ggpht.com</td>\n",
       "    </tr>\n",
       "    <tr>\n",
       "      <th>27</th>\n",
       "      <td>59be77be1d452a4f</td>\n",
       "      <td>https://lh5.googleusercontent.com/--Q3SMs25zX8...</td>\n",
       "      <td>1472</td>\n",
       "      <td>lh5.googleusercontent.com</td>\n",
       "    </tr>\n",
       "  </tbody>\n",
       "</table>\n",
       "</div>"
      ],
      "text/plain": [
       "                  id                                                url  \\\n",
       "5   056708de792326b9  https://lh3.googleusercontent.com/-nbz_XT1dGz4...   \n",
       "6   6ae1e206c579f649  https://lh6.googleusercontent.com/-onL5-pK9nZI...   \n",
       "7   7b1e476a7c89bb34  http://lh5.ggpht.com/-3GWjPriaA9g/Sg3e_S0qEgI/...   \n",
       "11  675e1bb968bc5150  http://lh3.ggpht.com/-3bysCvkJIBs/Tnf_HqJhFaI/...   \n",
       "12  192333daaf6119cf  https://lh5.googleusercontent.com/-eoC653AtqLs...   \n",
       "20  d84e1ac70338c92e  https://lh3.googleusercontent.com/-nGAwumqrkI0...   \n",
       "21  beee65146315cae8  http://mw2.google.com/mw-panoramio/photos/medi...   \n",
       "23  e75ec07b7b4c945f  http://lh6.ggpht.com/-MbCfKSsUTLg/RjyNT-6K2OI/...   \n",
       "24  9f1569a7c48423d7  http://lh6.ggpht.com/-g_6dtHyMEmA/TB5_ST1SOtI/...   \n",
       "27  59be77be1d452a4f  https://lh5.googleusercontent.com/--Q3SMs25zX8...   \n",
       "\n",
       "    landmark_id                  site_name  \n",
       "5          5046  lh3.googleusercontent.com  \n",
       "6          5554  lh6.googleusercontent.com  \n",
       "7         12220              lh5.ggpht.com  \n",
       "11         5554              lh3.ggpht.com  \n",
       "12        10045  lh5.googleusercontent.com  \n",
       "20        13526  lh3.googleusercontent.com  \n",
       "21         8274             mw2.google.com  \n",
       "23         6051              lh6.ggpht.com  \n",
       "24         4644              lh6.ggpht.com  \n",
       "27         1472  lh5.googleusercontent.com  "
      ]
     },
     "execution_count": 190,
     "metadata": {},
     "output_type": "execute_result"
    }
   ],
   "source": [
    "train_data.head(10)"
   ]
  },
  {
   "cell_type": "code",
   "execution_count": 191,
   "metadata": {},
   "outputs": [
    {
     "data": {
      "text/html": [
       "<div>\n",
       "<style scoped>\n",
       "    .dataframe tbody tr th:only-of-type {\n",
       "        vertical-align: middle;\n",
       "    }\n",
       "\n",
       "    .dataframe tbody tr th {\n",
       "        vertical-align: top;\n",
       "    }\n",
       "\n",
       "    .dataframe thead th {\n",
       "        text-align: right;\n",
       "    }\n",
       "</style>\n",
       "<table border=\"1\" class=\"dataframe\">\n",
       "  <thead>\n",
       "    <tr style=\"text-align: right;\">\n",
       "      <th></th>\n",
       "      <th>site_name</th>\n",
       "      <th>count</th>\n",
       "    </tr>\n",
       "  </thead>\n",
       "  <tbody>\n",
       "    <tr>\n",
       "      <th>0</th>\n",
       "      <td>lh3.googleusercontent.com</td>\n",
       "      <td>569</td>\n",
       "    </tr>\n",
       "    <tr>\n",
       "      <th>1</th>\n",
       "      <td>lh4.googleusercontent.com</td>\n",
       "      <td>555</td>\n",
       "    </tr>\n",
       "    <tr>\n",
       "      <th>2</th>\n",
       "      <td>lh6.googleusercontent.com</td>\n",
       "      <td>480</td>\n",
       "    </tr>\n",
       "    <tr>\n",
       "      <th>3</th>\n",
       "      <td>lh5.googleusercontent.com</td>\n",
       "      <td>471</td>\n",
       "    </tr>\n",
       "    <tr>\n",
       "      <th>4</th>\n",
       "      <td>lh5.ggpht.com</td>\n",
       "      <td>277</td>\n",
       "    </tr>\n",
       "    <tr>\n",
       "      <th>5</th>\n",
       "      <td>lh3.ggpht.com</td>\n",
       "      <td>275</td>\n",
       "    </tr>\n",
       "    <tr>\n",
       "      <th>6</th>\n",
       "      <td>lh6.ggpht.com</td>\n",
       "      <td>264</td>\n",
       "    </tr>\n",
       "    <tr>\n",
       "      <th>7</th>\n",
       "      <td>lh4.ggpht.com</td>\n",
       "      <td>240</td>\n",
       "    </tr>\n",
       "    <tr>\n",
       "      <th>8</th>\n",
       "      <td>mw2.google.com</td>\n",
       "      <td>135</td>\n",
       "    </tr>\n",
       "    <tr>\n",
       "      <th>9</th>\n",
       "      <td>static.panoramio.com</td>\n",
       "      <td>25</td>\n",
       "    </tr>\n",
       "  </tbody>\n",
       "</table>\n",
       "</div>"
      ],
      "text/plain": [
       "                   site_name  count\n",
       "0  lh3.googleusercontent.com    569\n",
       "1  lh4.googleusercontent.com    555\n",
       "2  lh6.googleusercontent.com    480\n",
       "3  lh5.googleusercontent.com    471\n",
       "4              lh5.ggpht.com    277\n",
       "5              lh3.ggpht.com    275\n",
       "6              lh6.ggpht.com    264\n",
       "7              lh4.ggpht.com    240\n",
       "8             mw2.google.com    135\n",
       "9       static.panoramio.com     25"
      ]
     },
     "execution_count": 191,
     "metadata": {},
     "output_type": "execute_result"
    }
   ],
   "source": [
    "# Occurrence of site in decreasing order(Top categories)\n",
    "site_occurrences = pd.DataFrame(train_data.site_name.value_counts())\n",
    "site_occurrences.reset_index(inplace=True)\n",
    "site_occurrences.columns = ['site_name','count']\n",
    "site_occurrences"
   ]
  },
  {
   "cell_type": "markdown",
   "metadata": {},
   "source": [
    "Понеже сайтът <b>Panoramio</b> е продукт на Google който вече не се използва url-ите от него не са валидни. Премахваме ги от данните"
   ]
  },
  {
   "cell_type": "code",
   "execution_count": 192,
   "metadata": {},
   "outputs": [],
   "source": [
    "train_data = train_data[~train_data.site_name.str.contains(\"panoramio\")]"
   ]
  },
  {
   "cell_type": "code",
   "execution_count": 193,
   "metadata": {},
   "outputs": [
    {
     "data": {
      "text/plain": [
       "(3266, 4)"
      ]
     },
     "execution_count": 193,
     "metadata": {},
     "output_type": "execute_result"
    }
   ],
   "source": [
    "train_data.shape"
   ]
  },
  {
   "cell_type": "code",
   "execution_count": 194,
   "metadata": {},
   "outputs": [
    {
     "data": {
      "text/html": [
       "<div>\n",
       "<style scoped>\n",
       "    .dataframe tbody tr th:only-of-type {\n",
       "        vertical-align: middle;\n",
       "    }\n",
       "\n",
       "    .dataframe tbody tr th {\n",
       "        vertical-align: top;\n",
       "    }\n",
       "\n",
       "    .dataframe thead th {\n",
       "        text-align: right;\n",
       "    }\n",
       "</style>\n",
       "<table border=\"1\" class=\"dataframe\">\n",
       "  <thead>\n",
       "    <tr style=\"text-align: right;\">\n",
       "      <th></th>\n",
       "      <th>site_name</th>\n",
       "      <th>count</th>\n",
       "    </tr>\n",
       "  </thead>\n",
       "  <tbody>\n",
       "    <tr>\n",
       "      <th>0</th>\n",
       "      <td>lh3.googleusercontent.com</td>\n",
       "      <td>569</td>\n",
       "    </tr>\n",
       "    <tr>\n",
       "      <th>1</th>\n",
       "      <td>lh4.googleusercontent.com</td>\n",
       "      <td>555</td>\n",
       "    </tr>\n",
       "    <tr>\n",
       "      <th>2</th>\n",
       "      <td>lh6.googleusercontent.com</td>\n",
       "      <td>480</td>\n",
       "    </tr>\n",
       "    <tr>\n",
       "      <th>3</th>\n",
       "      <td>lh5.googleusercontent.com</td>\n",
       "      <td>471</td>\n",
       "    </tr>\n",
       "    <tr>\n",
       "      <th>4</th>\n",
       "      <td>lh5.ggpht.com</td>\n",
       "      <td>277</td>\n",
       "    </tr>\n",
       "    <tr>\n",
       "      <th>5</th>\n",
       "      <td>lh3.ggpht.com</td>\n",
       "      <td>275</td>\n",
       "    </tr>\n",
       "    <tr>\n",
       "      <th>6</th>\n",
       "      <td>lh6.ggpht.com</td>\n",
       "      <td>264</td>\n",
       "    </tr>\n",
       "    <tr>\n",
       "      <th>7</th>\n",
       "      <td>lh4.ggpht.com</td>\n",
       "      <td>240</td>\n",
       "    </tr>\n",
       "    <tr>\n",
       "      <th>8</th>\n",
       "      <td>mw2.google.com</td>\n",
       "      <td>135</td>\n",
       "    </tr>\n",
       "  </tbody>\n",
       "</table>\n",
       "</div>"
      ],
      "text/plain": [
       "                   site_name  count\n",
       "0  lh3.googleusercontent.com    569\n",
       "1  lh4.googleusercontent.com    555\n",
       "2  lh6.googleusercontent.com    480\n",
       "3  lh5.googleusercontent.com    471\n",
       "4              lh5.ggpht.com    277\n",
       "5              lh3.ggpht.com    275\n",
       "6              lh6.ggpht.com    264\n",
       "7              lh4.ggpht.com    240\n",
       "8             mw2.google.com    135"
      ]
     },
     "execution_count": 194,
     "metadata": {},
     "output_type": "execute_result"
    }
   ],
   "source": [
    "# Occurrence of site in decreasing order after Panoramio is removed\n",
    "site_occurrences = pd.DataFrame(train_data.site_name.value_counts())\n",
    "site_occurrences.reset_index(inplace=True)\n",
    "site_occurrences.columns = ['site_name','count']"
   ]
  },
  {
   "cell_type": "code",
   "execution_count": 195,
   "metadata": {},
   "outputs": [
    {
     "data": {
      "image/png": "[encoded data removed]",
      "text/plain": [
       "<Figure size 648x576 with 1 Axes>"
      ]
     },
     "metadata": {},
     "output_type": "display_data"
    }
   ],
   "source": [
    "# Plot the Sites with their count\n",
    "plt.figure(figsize = (9, 8))\n",
    "plt.title('Sites with their count')\n",
    "sns.set_color_codes(\"pastel\")\n",
    "sns.barplot(x=\"site_name\", y=\"count\", data=site_occurrences,\n",
    "            label=\"Count\")\n",
    "locs, labels = plt.xticks()\n",
    "plt.setp(labels, rotation=90)\n",
    "plt.show()"
   ]
  },
  {
   "cell_type": "code",
   "execution_count": 197,
   "metadata": {},
   "outputs": [],
   "source": [
    "train_data=train_data.drop(columns=\"site_name\")"
   ]
  },
  {
   "cell_type": "markdown",
   "metadata": {},
   "source": [
    "Записваме почистените данни в нов csv файл за да продължим към същинската част на речението."
   ]
  },
  {
   "cell_type": "code",
   "execution_count": 199,
   "metadata": {},
   "outputs": [],
   "source": [
    "train_data.to_csv(\"train_data_cleared.csv\",index=False)"
   ]
  },
  {
   "cell_type": "markdown",
   "metadata": {},
   "source": [
    "<h2> Наблюдения върху снимковия материал </h2>\n",
    "Нека сега разгледаме и самите снимки, които сме получили и направим наблюдения върху тях."
   ]
  },
  {
   "cell_type": "code",
   "execution_count": 212,
   "metadata": {},
   "outputs": [],
   "source": [
    "from IPython.display import Image\n",
    "from IPython.core.display import HTML \n",
    "\n",
    "def display_category(urls, category_name):\n",
    "    img_style = \"width: 150px; margin: 0px; float: left; border: 1px solid black;\"\n",
    "    images_list = ''.join([\"<img style='\" + img_style + \"' src='\" + u + \"' />\" for _, u in urls.head(12).iteritems()])\n",
    "    display(HTML(images_list))"
   ]
  },
  {
   "cell_type": "code",
   "execution_count": 216,
   "metadata": {},
   "outputs": [
    {
     "data": {
      "text/html": [
       "<img style='width: 150px; margin: 0px; float: left; border: 1px solid black;' src='http://lh4.ggpht.com/-YzuWuieyLyg/S6G2Lyrv8VI/AAAAAAAAQfM/fDEw0bYTHWY/s1600/' /><img style='width: 150px; margin: 0px; float: left; border: 1px solid black;' src='https://lh5.googleusercontent.com/-vNm4Qep4xvc/RucMw5WOW5I/AAAAAAAAAyY/MXCsn0AvJRs/s1600/' /><img style='width: 150px; margin: 0px; float: left; border: 1px solid black;' src='https://lh3.googleusercontent.com/-Wp0BPOBawSg/SYd-CbHi4BI/AAAAAAAAIFY/Y7_DTdbWVCQ/s1600/' /><img style='width: 150px; margin: 0px; float: left; border: 1px solid black;' src='http://lh4.ggpht.com/-AB-94Rl4NOI/RtQnfJHb9KI/AAAAAAAAAcI/KoFovrFMylI/s1600/' /><img style='width: 150px; margin: 0px; float: left; border: 1px solid black;' src='https://lh3.googleusercontent.com/-nYal5jkAdpA/Spxppl8cJhI/AAAAAAAAAZc/GNC4DDWaspE/s1600/' /><img style='width: 150px; margin: 0px; float: left; border: 1px solid black;' src='http://lh5.ggpht.com/-pQCVretFebQ/Tc7IH2sbcpI/AAAAAAAAHRE/XMHm7kWPV28/s1600/' /><img style='width: 150px; margin: 0px; float: left; border: 1px solid black;' src='https://lh4.googleusercontent.com/-BUy12tj3YyI/UJRm0POntXI/AAAAAAAAU4w/HjkB3yxSfyM/s1600/' /><img style='width: 150px; margin: 0px; float: left; border: 1px solid black;' src='https://lh6.googleusercontent.com/-gKxTQK7gGJ8/TrARKvCvryI/AAAAAAAAYfw/EZCrktJTadA/s1600/' /><img style='width: 150px; margin: 0px; float: left; border: 1px solid black;' src='https://lh3.googleusercontent.com/-UX2AyGgMBaM/UbxyYsNw8HI/AAAAAAAAEzU/P3exWRh1ujw/s1600/' /><img style='width: 150px; margin: 0px; float: left; border: 1px solid black;' src='https://lh5.googleusercontent.com/-qundc-F4rNk/Tejnfhy2k0I/AAAAAAAABS8/whcwihPpI5A/s1600/' /><img style='width: 150px; margin: 0px; float: left; border: 1px solid black;' src='https://lh5.googleusercontent.com/-VO6Jin8vVNA/TqljphvJaOI/AAAAAAAAAIM/BaV3z2mnSCQ/s1600/' /><img style='width: 150px; margin: 0px; float: left; border: 1px solid black;' src='http://lh4.ggpht.com/-D22ctaTq1Rs/TLP7oSq7NXI/AAAAAAAALJM/4CTcmN9S6Qo/s1600/' />"
      ],
      "text/plain": [
       "<IPython.core.display.HTML object>"
      ]
     },
     "metadata": {},
     "output_type": "execute_result"
    },
    {
     "name": "stdout",
     "output_type": "stream",
     "text": [
      "6651\n"
     ]
    }
   ],
   "source": [
    "category = train_data['landmark_id'].value_counts().keys()[5]\n",
    "urls = train_data[train_data['landmark_id'] == category]['url']\n",
    "display_category(urls, \"\")\n",
    "print(category)"
   ]
  },
  {
   "cell_type": "markdown",
   "metadata": {},
   "source": [
    "С категория 6651 виждаме някои особености на данните\n",
    "<ul>\n",
    "<li> Снимките често съдържат портретни снимки на хора на преден план и самата забележителност не се вижда добре </li>\n",
    "<li> Някои снимки съдържат и надписи, които биха могли да повлияят на модела </li>\n",
    "</ul>"
   ]
  },
  {
   "cell_type": "code",
   "execution_count": null,
   "metadata": {},
   "outputs": [],
   "source": []
  }
 ],
 "metadata": {
  "kernelspec": {
   "display_name": "Python 3",
   "language": "python",
   "name": "python3"
  },
  "language_info": {
   "codemirror_mode": {
    "name": "ipython",
    "version": 3
   },
   "file_extension": ".py",
   "mimetype": "text/x-python",
   "name": "python",
   "nbconvert_exporter": "python",
   "pygments_lexer": "ipython3",
   "version": "3.5.2"
  }
 },
 "nbformat": 4,
 "nbformat_minor": 2
}
